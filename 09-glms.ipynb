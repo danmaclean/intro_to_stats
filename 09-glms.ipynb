{
  "cells": [
    {
      "cell_type": "markdown",
      "metadata": {},
      "source": [
        "# Generalized Linear Models\n",
        "\n",
        "Generalized Linear Models (GLMs) are, as the name might suggest, a generalization of the linear model that can be used when the residuals are not normally distributed. We went to quite a lot of trouble in this chapter to learn how to identify normally distributed residuals and input data and to press home the idea that if we do have data that look mostly normal then the linear model is still a useful tool. However, there are many situations where your data isn't going to be anything like normal and that's where a GLM is helpful. GLMs are particularly useful instance in non-linear situations like exponentially changing data or count data, indeed in earlier chapters we did see some data that definitely didn't fit a normal (though we didn't point it out explicitly at the time) the frequency data in the $\\chi^2$ test section wasn't usable in a linear model without a great deal of fiddling. \n",
        "\n",
        "```{block2, type=\"sidenote\"}\n",
        "Actually, with a lot of non-normal data, e.g exponential data, we can 'hack' our data to be more normal by applying a transformation such as taking logs, and then proceed as before. Often we can't or shouldn't and that's where Generalized Linear Models come in.\n",
        "```\n",
        "\n",
        "GLMs can be thought of as clever linear models that you can specify the type of distribution the residual has, this means the mathematics is a lot more complicated, but in practice it's just another function in R - `glm()` which is related to `lm()` and works much like it with some extra options to set.\n",
        "\n",
        "GLMs are a powerful thing and great to know about, and once you've got the hang of linear models not terribly hard to use, keep them in mind as you work through your analyses and if you come across a data set that doesn't seem to fit well with linear models, maybe you need to move over to a GLM.\n",
        "\n",
        "```{block2, type=\"roundup\"}\n",
        "  * Linear models are one member of a larger family of models for many types of data, Generalized Linear models are the general class of tool.\n",
        "```"
      ],
      "id": "9267559e"
    }
  ],
  "metadata": {
    "kernelspec": {
      "display_name": "Python 3",
      "language": "python",
      "name": "python3"
    }
  },
  "nbformat": 4,
  "nbformat_minor": 5
}